{
 "cells": [
  {
   "cell_type": "code",
   "execution_count": 1,
   "metadata": {},
   "outputs": [],
   "source": [
    "#importing packages\n",
    "import pandas as pd\n",
    "import numpy as np\n",
    "import matplotlib.pyplot as plt\n",
    "import altair as alt\n",
    "from vega_datasets import data"
   ]
  },
  {
   "cell_type": "code",
   "execution_count": 2,
   "metadata": {},
   "outputs": [],
   "source": [
    "#reading in relevant files\n",
    "atlas_census_data = pd.read_csv(\"ERSAtlas_CensusData.csv\")"
   ]
  },
  {
   "cell_type": "code",
   "execution_count": 3,
   "metadata": {},
   "outputs": [],
   "source": [
    "#increasing display\n",
    "pd.options.display.max_columns = None"
   ]
  },
  {
   "cell_type": "code",
   "execution_count": 4,
   "metadata": {},
   "outputs": [],
   "source": [
    "#getting state level information into df\n",
    "state_level = atlas_census_data.groupby([\"State\", \"region\", \"food_desert_label\"]).aggregate({\"food_desert_label\":\"sum\", \"MedianIncome\":\"median\", \"Walk\": \"mean\", \"TotalPop\": \"sum\", \"ChildPoverty\": \"mean\", \"Service\": \"mean\", \"Construction\":\"mean\", \"Hispanic\":\"sum\", \"Asian\":\"sum\", \"White\":\"sum\", \"Black\":\"sum\", \"Native\":\"sum\", \"Pacific\":\"sum\"})\n",
    "state_level = state_level.rename(columns={\"food_desert_label\": \"FoodDesert_Totals\"})\n",
    "state_level = state_level.reset_index()\n",
    "state_level = state_level.rename(columns={\"region\": \"Region\"})"
   ]
  },
  {
   "cell_type": "code",
   "execution_count": 5,
   "metadata": {},
   "outputs": [],
   "source": [
    "#getting vega dataset just for map element\n",
    "state_pop = data.population_engineers_hurricanes()[['state', 'id', 'population']]\n",
    "state_map = alt.topo_feature(data.us_10m.url, 'states')\n",
    "state_pop = state_pop.rename(columns={'state':\"State\"})\n",
    "\n",
    "#final state level data\n",
    "final_state_level  = state_pop[[\"State\", \"id\"]].merge(state_level, how=\"inner\", on=\"State\")"
   ]
  },
  {
   "cell_type": "code",
   "execution_count": 6,
   "metadata": {},
   "outputs": [],
   "source": [
    "#adding click feature\n",
    "click = alt.selection_multi(fields=['State'])"
   ]
  },
  {
   "cell_type": "code",
   "execution_count": 27,
   "metadata": {},
   "outputs": [],
   "source": [
    "#combined scatter plot\n",
    "scatter_plot = alt.Chart(final_state_level\n",
    ").mark_point(filled=True).encode(\n",
    "    x=alt.X(\"MedianIncome:Q\", scale=alt.Scale(domain=[35000, 115000]), axis=alt.Axis(title=\"Median Income\", gridOpacity=0.1)),\n",
    "    y=alt.Y(\"Walk:Q\", axis=alt.Axis(gridOpacity=0.1)),\n",
    "    size=alt.Size(\"TotalPop:Q\", legend=alt.Legend(title=\"Total Population\")),\n",
    "    color=alt.Color(\"food_desert_label:N\", legend=alt.Legend(title=\"Food Desert Label\")),\n",
    "    tooltip = [\"State:N\", \"MedianIncome:Q\", \"FoodDesert_Totals:Q\", \"Region:N\"],\n",
    "    opacity=alt.condition(click, alt.value(1), alt.value(0.2))\n",
    ").properties(\n",
    "    width=800\n",
    ").add_selection(click)\n"
   ]
  },
  {
   "cell_type": "code",
   "execution_count": 29,
   "metadata": {},
   "outputs": [],
   "source": [
    "#no food desert regression line\n",
    "no_regline = alt.Chart(final_state_level).transform_filter(\n",
    "    alt.datum.food_desert_label == 0\n",
    ").transform_regression(\n",
    "    \"MedianIncome\", \"Walk\"\n",
    ").mark_line(opacity=0.3).encode(\n",
    "    x=alt.X(\"MedianIncome:Q\"),\n",
    "    y=alt.Y(\"Walk:Q\")\n",
    ")"
   ]
  },
  {
   "cell_type": "code",
   "execution_count": 30,
   "metadata": {},
   "outputs": [],
   "source": [
    "#yes food desert regression line\n",
    "yes_regline = alt.Chart(final_state_level).transform_filter(\n",
    "    alt.datum.food_desert_label == 1\n",
    ").transform_regression(\n",
    "    \"MedianIncome\", \"Walk\"\n",
    ").mark_line(opacity=0.3, color=\"orange\").encode(\n",
    "    x=alt.X(\"MedianIncome:Q\"),\n",
    "    y=alt.Y(\"Walk:Q\")\n",
    ")"
   ]
  },
  {
   "cell_type": "code",
   "execution_count": 31,
   "metadata": {},
   "outputs": [],
   "source": [
    "#combining reglines\n",
    "reglines = no_regline+yes_regline"
   ]
  },
  {
   "cell_type": "code",
   "execution_count": 36,
   "metadata": {},
   "outputs": [],
   "source": [
    "#combining scatter plot and reglines\n",
    "final_plot = scatter_plot+reglines"
   ]
  },
  {
   "cell_type": "code",
   "execution_count": 67,
   "metadata": {},
   "outputs": [],
   "source": [
    "#creating bar chart\n",
    "#used as reference: https://towardsdatascience.com/how-to-create-bindings-and-conditions-between-multiple-plots-using-altair-4e4fe907de37\n",
    "mini_bar = alt.Chart(final_state_level).transform_fold(\n",
    "    [\"Hispanic\", \"White\", \"Black\", \"Native\", \"Asian\", \"Pacific\"],\n",
    "    as_=[\"Race\", \"values\"]\n",
    ").mark_bar().encode(\n",
    "    y = alt.Y(\"Race:N\"),\n",
    "    x=alt.X(\"values:Q\", axis=alt.Axis(title=\"Count of Population\", tickCount=5)),\n",
    "    color=alt.Color(\"food_desert_label:N\")\n",
    ").properties(\n",
    "    height = 175\n",
    ").transform_filter(click)\n"
   ]
  },
  {
   "cell_type": "code",
   "execution_count": 53,
   "metadata": {},
   "outputs": [],
   "source": [
    "#creating map\n",
    "mini_map = (alt.Chart(state_map).mark_geoshape().transform_lookup(\n",
    "    lookup = \"id\",\n",
    "    from_=alt.LookupData(final_state_level, \"id\", [\"State\", \"Region\", \"TotalPop\", \"ChildPoverty\", \"FoodDesert_Totals\"])\n",
    ").encode(\n",
    "    color=alt.Color(\"FoodDesert_Totals:Q\", legend=alt.Legend(title=\"Food Desert Totals\")),\n",
    "    opacity = alt.condition(click, alt.value(1), alt.value(0.1)),\n",
    "    tooltip = alt.Tooltip([\"State:N\", \"Region:N\", \"TotalPop:Q\"])\n",
    ").add_selection(click\n",
    ").project(type='albersUsa')).properties(\n",
    "    width = 250,\n",
    "    height=250\n",
    ")"
   ]
  },
  {
   "cell_type": "code",
   "execution_count": 68,
   "metadata": {},
   "outputs": [],
   "source": [
    "#combining map and bar\n",
    "bar_map = mini_bar| mini_map"
   ]
  },
  {
   "cell_type": "code",
   "execution_count": 72,
   "metadata": {},
   "outputs": [],
   "source": [
    "#combining bar and scatter\n",
    "combined_visuals = alt.vconcat(bar_map, final_plot)"
   ]
  },
  {
   "cell_type": "code",
   "execution_count": 74,
   "metadata": {},
   "outputs": [],
   "source": [
    "#adding final configurations\n",
    "final_combined_visuals = combined_visuals.configure(background='Black'\n",
    ").configure_axisLeft(\n",
    "    labelColor='white',\n",
    "    titleColor='white'\n",
    ").configure_axisRight(\n",
    "    labelColor='white',\n",
    "    titleColor='white'\n",
    ").configure_axisBottom(\n",
    "    labelColor='white',\n",
    "    titleColor='white'\n",
    ").configure_axisTop(\n",
    "    labelColor='black',\n",
    "    titleColor = 'white'\n",
    ").configure_legend(\n",
    "    labelColor='white',\n",
    "    titleColor='white'\n",
    ")"
   ]
  },
  {
   "cell_type": "code",
   "execution_count": null,
   "metadata": {},
   "outputs": [],
   "source": []
  }
 ],
 "metadata": {
  "interpreter": {
   "hash": "aee8b7b246df8f9039afb4144a1f6fd8d2ca17a180786b69acc140d282b71a49"
  },
  "kernelspec": {
   "display_name": "Python 3.8.5 64-bit",
   "language": "python",
   "name": "python3"
  },
  "language_info": {
   "codemirror_mode": {
    "name": "ipython",
    "version": 3
   },
   "file_extension": ".py",
   "mimetype": "text/x-python",
   "name": "python",
   "nbconvert_exporter": "python",
   "pygments_lexer": "ipython3",
   "version": "3.8.5"
  },
  "orig_nbformat": 4
 },
 "nbformat": 4,
 "nbformat_minor": 2
}
